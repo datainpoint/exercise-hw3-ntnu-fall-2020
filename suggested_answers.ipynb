{
 "cells": [
  {
   "cell_type": "markdown",
   "metadata": {
    "deletable": false,
    "editable": false
   },
   "source": [
    "## Introduction to Python\n",
    "\n",
    "> Homework 3 | NTNU Fall 2020\n",
    "\n",
    "Kuo, Yao-Jen <yaojenkuo@datainpoint.com> from [DATAINPOINT](https://www.datainpoint.com)"
   ]
  },
  {
   "cell_type": "code",
   "execution_count": 1,
   "metadata": {
    "deletable": false,
    "editable": false
   },
   "outputs": [],
   "source": [
    "import numpy as np"
   ]
  },
  {
   "cell_type": "markdown",
   "metadata": {},
   "source": [
    "## Define a class named `CircleCalculator` with 3 methods: `get_diameter`, `get_perimeter`, and `get_area` that is able to return the diameter, perimeter, and area given a radius(`r`).\n",
    "\n",
    "\\begin{align}\n",
    "\\text{diameter} = 2r \\\\\n",
    "\\text{perimeter} = 2 \\pi r \\\\\n",
    "\\text{area} = \\pi r^2\n",
    "\\end{align}\n",
    "\n",
    "PS Use $\\pi = 3.14159$\n",
    "\n",
    "- Expected inputs: a numeric `r`\n",
    "- Expected outputs: a numeric"
   ]
  },
  {
   "cell_type": "code",
   "execution_count": 2,
   "metadata": {},
   "outputs": [],
   "source": [
    "class CircleCalculator:\n",
    "    \"\"\"\n",
    "    >>> cc = CircleCalculator(4)\n",
    "    >>> cc.get_diameter()\n",
    "    8\n",
    "    >>> cc.get_perimeter()\n",
    "    25.13272\n",
    "    >>> cc.get_area()\n",
    "    50.26544\n",
    "    >>> cc = CircleCalculator(5)\n",
    "    >>> cc.get_diameter()\n",
    "    10\n",
    "    >>> cc.get_perimeter()\n",
    "    31.4159\n",
    "    >>> cc.get_area()\n",
    "    78.53975\n",
    "    \"\"\"\n",
    "    ### BEGIN SOLUTION\n",
    "    def __init__(self, r):\n",
    "        self._r = r\n",
    "        self._pi = 3.14159\n",
    "    def get_diameter(self):\n",
    "        return 2 * self._r\n",
    "    def get_perimeter(self):\n",
    "        return 2 * self._pi * self._r\n",
    "    def get_area(self):\n",
    "        return self._pi * self._r**2\n",
    "    ### END SOLUTION"
   ]
  },
  {
   "cell_type": "markdown",
   "metadata": {},
   "source": [
    "## Define a class named `Aggregator` with 2 methods: `summation` and `product`. The `summation` method is able to return the sum of `*args`, while `product` method is able to return the multiplication of `*args`.\n",
    "\n",
    "- Expected inputs：`*args`\n",
    "- Expected outputs：a numeric"
   ]
  },
  {
   "cell_type": "code",
   "execution_count": 3,
   "metadata": {},
   "outputs": [],
   "source": [
    "class Aggregator:\n",
    "    \"\"\"\n",
    "    >>> agg = Aggregator()\n",
    "    >>> agg.summation(5, 6)\n",
    "    11\n",
    "    >>> agg.product(5, 5, 6, 6)\n",
    "    900\n",
    "    >>> agg.summation(7, 7, 8, 8)\n",
    "    30\n",
    "    >>> agg.product(7, 8)\n",
    "    56\n",
    "    \"\"\"\n",
    "    ### BEGIN SOLUTION\n",
    "    def summation(self, *args):\n",
    "        return sum(args)\n",
    "    def product(self, *args):\n",
    "        prod = 1\n",
    "        for arg in args:\n",
    "            prod *= arg\n",
    "        return prod\n",
    "    ### END SOLUTION"
   ]
  },
  {
   "cell_type": "markdown",
   "metadata": {},
   "source": [
    "## Define a class named `CheckPrime` with 2 methods `get_factors` and `is_prime`. The `get_factors` method is able to return the divisors of a given integer, while the `is_prime` method is able to return if a given integer is a prime or not.\n",
    "\n",
    "- Expected inputs：an integer\n",
    "- Expected outputs：a set / a boolean"
   ]
  },
  {
   "cell_type": "code",
   "execution_count": 4,
   "metadata": {},
   "outputs": [],
   "source": [
    "class CheckPrime:\n",
    "    \"\"\"\n",
    "    >>> check_prime = CheckPrime()\n",
    "    >>> check_prime.get_factors(1)\n",
    "    {1}\n",
    "    >>> check_prime.is_prime(1)\n",
    "    False\n",
    "    >>> check_prime = CheckPrime()\n",
    "    >>> check_prime.get_factors(2)\n",
    "    {1, 2}\n",
    "    >>> check_prime.is_prime(2)\n",
    "    True\n",
    "    >>> check_prime = CheckPrime()\n",
    "    >>> check_prime.get_factors(3)\n",
    "    {1, 3}\n",
    "    >>> check_prime.is_prime(3)\n",
    "    True\n",
    "    >>> check_prime = CheckPrime()\n",
    "    >>> check_prime.get_factors(4)\n",
    "    {1, 2, 4}\n",
    "    >>> check_prime.is_prime(4)\n",
    "    False\n",
    "    \"\"\"\n",
    "    ### BEGIN SOLUTION\n",
    "    def get_factors(self, x):\n",
    "        factors = {i for i in range(1, x + 1) if x % i == 0}\n",
    "        return factors\n",
    "    def is_prime(self, x):\n",
    "        factors_of_x = self.get_factors(x)\n",
    "        n_factors_of_x = len(factors_of_x)\n",
    "        return n_factors_of_x == 2\n",
    "    ### END SOLUTION"
   ]
  },
  {
   "cell_type": "markdown",
   "metadata": {},
   "source": [
    "## Define a class `NewCheckPrime`  inherited from the previously defined `CheckPrime` class. Add an additional method `find_primes(a, b)` that is able to return the primes between `a` and `b`, where $a \\leq b$\n",
    "\n",
    "- Expected inputs：an integer\n",
    "- Expected outputs：a set / a boolean / a set"
   ]
  },
  {
   "cell_type": "code",
   "execution_count": 5,
   "metadata": {},
   "outputs": [],
   "source": [
    "class NewCheckPrime(CheckPrime):\n",
    "    \"\"\"\n",
    "    >>> new_check_prime = NewCheckPrime()\n",
    "    >>> new_check_prime.get_factors(4)\n",
    "    {1, 2, 4}\n",
    "    >>> new_check_prime.is_prime(4)\n",
    "    False\n",
    "    >>> new_check_prime.find_primes(1, 4)\n",
    "    {2, 3}\n",
    "    >>> new_check_prime = NewCheckPrime()\n",
    "    >>> new_check_prime.get_factors(5)\n",
    "    {1, 5}\n",
    "    >>> new_check_prime.is_prime(5)\n",
    "    True\n",
    "    >>> new_check_prime.find_primes(1, 5)\n",
    "    {2, 3, 5}\n",
    "    \"\"\"\n",
    "    ### BEGIN SOLUTION\n",
    "    def find_primes(self, a, b):\n",
    "        numbers = range(a, b+1)\n",
    "        primes = {number for number in numbers if self.is_prime(number)}\n",
    "        return primes\n",
    "    ### END SOLUTION"
   ]
  },
  {
   "cell_type": "markdown",
   "metadata": {},
   "source": [
    "## Define a function named `cov` that is able to calculate the covariance of 2 same-length arrays.\n",
    "\n",
    "\\begin{equation}\n",
    "cov(x, y) = \\frac{1}{N}\\sum_{i=1}^{N}(x_i-\\bar{x})(y_i-\\bar{y})\n",
    "\\end{equation}\n",
    "\n",
    "- Expected inputs: 2 `ndarray`\n",
    "- Expected outputs: a numeric\n",
    "\n",
    "Source: <https://en.wikipedia.org/wiki/Covariance>"
   ]
  },
  {
   "cell_type": "code",
   "execution_count": 6,
   "metadata": {},
   "outputs": [],
   "source": [
    "def cov(x, y):\n",
    "    \"\"\"\n",
    "    >>> np.random.seed(123)\n",
    "    >>> x = np.random.randint(0, 50, 10)\n",
    "    >>> y = np.random.randint(0, 50, 10)\n",
    "    >>> cov(x, y)\n",
    "    -54.7\n",
    "    >>> np.random.seed(12)\n",
    "    >>> x = np.random.randint(0, 50, 10)\n",
    "    >>> y = np.random.randint(0, 50, 10)\n",
    "    >>> cov(x, y)\n",
    "    65.03\n",
    "    \"\"\"\n",
    "    ### BEGIN SOLUTION\n",
    "    N = x.size\n",
    "    x_bar = x.mean()\n",
    "    y_bar = y.mean()\n",
    "    errors = (x - x_bar) * (y - y_bar)\n",
    "    sum_errors = errors.sum()\n",
    "    return sum_errors / N\n",
    "    ### END SOLUTION"
   ]
  },
  {
   "cell_type": "markdown",
   "metadata": {
    "deletable": false,
    "editable": false
   },
   "source": [
    "## Run tests!\n",
    "\n",
    "Kernel -> Restart & Run All."
   ]
  },
  {
   "cell_type": "code",
   "execution_count": 7,
   "metadata": {
    "deletable": false,
    "editable": false
   },
   "outputs": [
    {
     "name": "stderr",
     "output_type": "stream",
     "text": [
      "testAggregator (__main__.TestHomeworkThree) ... ok\n",
      "testCheckPrime (__main__.TestHomeworkThree) ... ok\n",
      "testCircleCalculator (__main__.TestHomeworkThree) ... ok\n",
      "testNewCheckPrime (__main__.TestHomeworkThree) ... ok\n",
      "test_cov (__main__.TestHomeworkThree) ... ok\n",
      "\n",
      "----------------------------------------------------------------------\n",
      "Ran 5 tests in 0.007s\n",
      "\n",
      "OK\n"
     ]
    }
   ],
   "source": [
    "import unittest\n",
    "\n",
    "class TestHomeworkThree(unittest.TestCase):\n",
    "    def testAggregator(self):\n",
    "        agg = Aggregator()\n",
    "        self.assertEqual(agg.summation(5, 6), 11)\n",
    "        self.assertEqual(agg.product(5, 5, 6, 6), 900)\n",
    "        self.assertEqual(agg.summation(7, 7, 8, 8), 30)\n",
    "        self.assertEqual(agg.product(7, 8), 56)\n",
    "    def testCheckPrime(self):\n",
    "        check_prime = CheckPrime()\n",
    "        self.assertEqual(check_prime.get_factors(1), {1})\n",
    "        self.assertFalse(check_prime.is_prime(1))\n",
    "        check_prime = CheckPrime()\n",
    "        self.assertEqual(check_prime.get_factors(2), {1, 2})\n",
    "        self.assertTrue(check_prime.is_prime(2))\n",
    "        check_prime = CheckPrime()\n",
    "        self.assertEqual(check_prime.get_factors(3), {1, 3})\n",
    "        self.assertTrue(check_prime.is_prime(3), True)\n",
    "        check_prime = CheckPrime()\n",
    "        self.assertEqual(check_prime.get_factors(4), {1, 2, 4})\n",
    "        self.assertFalse(check_prime.is_prime(4))\n",
    "    def testNewCheckPrime(self):\n",
    "        new_check_prime = NewCheckPrime()\n",
    "        self.assertEqual(new_check_prime.get_factors(4), {1, 2, 4})\n",
    "        self.assertFalse(new_check_prime.is_prime(4), False)\n",
    "        self.assertEqual(new_check_prime.find_primes(1, 4), {2, 3})\n",
    "        new_check_prime = NewCheckPrime()\n",
    "        self.assertEqual(new_check_prime.get_factors(5), {1, 5})\n",
    "        self.assertTrue(new_check_prime.is_prime(5))\n",
    "        self.assertEqual(new_check_prime.find_primes(1, 5), {2, 3, 5})\n",
    "    def testCircleCalculator(self):\n",
    "        cc = CircleCalculator(4)\n",
    "        self.assertEqual(cc.get_diameter(), 8)\n",
    "        self.assertAlmostEqual(cc.get_perimeter(), 25.13272)\n",
    "        self.assertAlmostEqual(cc.get_area(), 50.26544)\n",
    "        cc = CircleCalculator(5)\n",
    "        self.assertEqual(cc.get_diameter(), 10)\n",
    "        self.assertAlmostEqual(cc.get_perimeter(), 31.4159)\n",
    "        self.assertAlmostEqual(cc.get_area(), 78.53975)\n",
    "    def test_cov(self):\n",
    "        np.random.seed(123)\n",
    "        x = np.random.randint(0, 50, 10)\n",
    "        y = np.random.randint(0, 50, 10)\n",
    "        self.assertAlmostEqual(cov(x, y), -54.7)\n",
    "        np.random.seed(12)\n",
    "        x = np.random.randint(0, 50, 10)\n",
    "        y = np.random.randint(0, 50, 10)\n",
    "        self.assertAlmostEqual(cov(x, y), 65.03)\n",
    "\n",
    "suite = unittest.TestLoader().loadTestsFromTestCase(TestHomeworkThree)\n",
    "runner = unittest.TextTestRunner(verbosity=2)\n",
    "test_results = runner.run(suite)\n",
    "number_of_failures = len(test_results.failures)\n",
    "number_of_errors = len(test_results.errors)\n",
    "number_of_test_runs = test_results.testsRun\n",
    "number_of_successes = number_of_test_runs - (number_of_failures + number_of_errors)\n",
    "total_points = number_of_successes * 2"
   ]
  },
  {
   "cell_type": "code",
   "execution_count": 8,
   "metadata": {
    "deletable": false,
    "editable": false
   },
   "outputs": [
    {
     "name": "stdout",
     "output_type": "stream",
     "text": [
      "You've got 5 successes with 10 points.\n"
     ]
    }
   ],
   "source": [
    "print(\"You've got {} successes with {} points.\".format(number_of_successes, total_points))"
   ]
  }
 ],
 "metadata": {
  "kernelspec": {
   "display_name": "Python Data Analysis",
   "language": "python",
   "name": "pyda"
  },
  "language_info": {
   "codemirror_mode": {
    "name": "ipython",
    "version": 3
   },
   "file_extension": ".py",
   "mimetype": "text/x-python",
   "name": "python",
   "nbconvert_exporter": "python",
   "pygments_lexer": "ipython3",
   "version": "3.6.8"
  }
 },
 "nbformat": 4,
 "nbformat_minor": 4
}
